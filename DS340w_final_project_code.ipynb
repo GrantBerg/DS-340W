{
  "nbformat": 4,
  "nbformat_minor": 0,
  "metadata": {
    "colab": {
      "provenance": [],
      "gpuType": "T4",
      "authorship_tag": "ABX9TyMMf/j2QpI/1TMNQU5fWgEm",
      "include_colab_link": true
    },
    "kernelspec": {
      "name": "python3",
      "display_name": "Python 3"
    },
    "language_info": {
      "name": "python"
    },
    "accelerator": "GPU"
  },
  "cells": [
    {
      "cell_type": "markdown",
      "metadata": {
        "id": "view-in-github",
        "colab_type": "text"
      },
      "source": [
        "<a href=\"https://colab.research.google.com/github/GrantBerg/DS-340W/blob/main/DS340w_final_project_code.ipynb\" target=\"_parent\"><img src=\"https://colab.research.google.com/assets/colab-badge.svg\" alt=\"Open In Colab\"/></a>"
      ]
    },
    {
      "cell_type": "markdown",
      "source": [
        "Required libraries installation"
      ],
      "metadata": {
        "id": "38uwpclSX3gW"
      }
    },
    {
      "cell_type": "code",
      "execution_count": 1,
      "metadata": {
        "colab": {
          "base_uri": "https://localhost:8080/"
        },
        "id": "D77R1lr5TVTP",
        "outputId": "ee2e7469-5f21-4e37-ddd8-97b7ffed7daf"
      },
      "outputs": [
        {
          "output_type": "stream",
          "name": "stdout",
          "text": [
            "Collecting muspy\n",
            "  Downloading muspy-0.5.0-py3-none-any.whl.metadata (5.5 kB)\n",
            "Requirement already satisfied: PyYAML>=3.0 in /usr/local/lib/python3.11/dist-packages (from muspy) (6.0.2)\n",
            "Collecting bidict>=0.21 (from muspy)\n",
            "  Downloading bidict-0.23.1-py3-none-any.whl.metadata (8.7 kB)\n",
            "Requirement already satisfied: joblib>=0.15 in /usr/local/lib/python3.11/dist-packages (from muspy) (1.4.2)\n",
            "Requirement already satisfied: matplotlib>=1.5 in /usr/local/lib/python3.11/dist-packages (from muspy) (3.10.0)\n",
            "Collecting miditoolkit>=0.1 (from muspy)\n",
            "  Downloading miditoolkit-1.0.1-py3-none-any.whl.metadata (4.9 kB)\n",
            "Collecting mido>=1.0 (from muspy)\n",
            "  Downloading mido-1.3.3-py3-none-any.whl.metadata (6.4 kB)\n",
            "Requirement already satisfied: music21>=6.0 in /usr/local/lib/python3.11/dist-packages (from muspy) (9.3.0)\n",
            "Collecting pretty-midi>=0.2 (from muspy)\n",
            "  Downloading pretty_midi-0.2.10.tar.gz (5.6 MB)\n",
            "\u001b[2K     \u001b[90m━━━━━━━━━━━━━━━━━━━━━━━━━━━━━━━━━━━━━━━━\u001b[0m \u001b[32m5.6/5.6 MB\u001b[0m \u001b[31m43.0 MB/s\u001b[0m eta \u001b[36m0:00:00\u001b[0m\n",
            "\u001b[?25h  Preparing metadata (setup.py) ... \u001b[?25l\u001b[?25hdone\n",
            "Collecting pypianoroll>=1.0 (from muspy)\n",
            "  Downloading pypianoroll-1.0.4-py3-none-any.whl.metadata (3.8 kB)\n",
            "Requirement already satisfied: requests>=2.0 in /usr/local/lib/python3.11/dist-packages (from muspy) (2.32.3)\n",
            "Requirement already satisfied: tqdm>=4.0 in /usr/local/lib/python3.11/dist-packages (from muspy) (4.67.1)\n",
            "Requirement already satisfied: contourpy>=1.0.1 in /usr/local/lib/python3.11/dist-packages (from matplotlib>=1.5->muspy) (1.3.2)\n",
            "Requirement already satisfied: cycler>=0.10 in /usr/local/lib/python3.11/dist-packages (from matplotlib>=1.5->muspy) (0.12.1)\n",
            "Requirement already satisfied: fonttools>=4.22.0 in /usr/local/lib/python3.11/dist-packages (from matplotlib>=1.5->muspy) (4.57.0)\n",
            "Requirement already satisfied: kiwisolver>=1.3.1 in /usr/local/lib/python3.11/dist-packages (from matplotlib>=1.5->muspy) (1.4.8)\n",
            "Requirement already satisfied: numpy>=1.23 in /usr/local/lib/python3.11/dist-packages (from matplotlib>=1.5->muspy) (2.0.2)\n",
            "Requirement already satisfied: packaging>=20.0 in /usr/local/lib/python3.11/dist-packages (from matplotlib>=1.5->muspy) (24.2)\n",
            "Requirement already satisfied: pillow>=8 in /usr/local/lib/python3.11/dist-packages (from matplotlib>=1.5->muspy) (11.2.1)\n",
            "Requirement already satisfied: pyparsing>=2.3.1 in /usr/local/lib/python3.11/dist-packages (from matplotlib>=1.5->muspy) (3.2.3)\n",
            "Requirement already satisfied: python-dateutil>=2.7 in /usr/local/lib/python3.11/dist-packages (from matplotlib>=1.5->muspy) (2.9.0.post0)\n",
            "Requirement already satisfied: chardet in /usr/local/lib/python3.11/dist-packages (from music21>=6.0->muspy) (5.2.0)\n",
            "Requirement already satisfied: jsonpickle in /usr/local/lib/python3.11/dist-packages (from music21>=6.0->muspy) (4.0.5)\n",
            "Requirement already satisfied: more-itertools in /usr/local/lib/python3.11/dist-packages (from music21>=6.0->muspy) (10.7.0)\n",
            "Requirement already satisfied: webcolors>=1.5 in /usr/local/lib/python3.11/dist-packages (from music21>=6.0->muspy) (24.11.1)\n",
            "Requirement already satisfied: six in /usr/local/lib/python3.11/dist-packages (from pretty-midi>=0.2->muspy) (1.17.0)\n",
            "Requirement already satisfied: scipy>=1.0.0 in /usr/local/lib/python3.11/dist-packages (from pypianoroll>=1.0->muspy) (1.15.2)\n",
            "Requirement already satisfied: charset-normalizer<4,>=2 in /usr/local/lib/python3.11/dist-packages (from requests>=2.0->muspy) (3.4.1)\n",
            "Requirement already satisfied: idna<4,>=2.5 in /usr/local/lib/python3.11/dist-packages (from requests>=2.0->muspy) (3.10)\n",
            "Requirement already satisfied: urllib3<3,>=1.21.1 in /usr/local/lib/python3.11/dist-packages (from requests>=2.0->muspy) (2.4.0)\n",
            "Requirement already satisfied: certifi>=2017.4.17 in /usr/local/lib/python3.11/dist-packages (from requests>=2.0->muspy) (2025.4.26)\n",
            "Downloading muspy-0.5.0-py3-none-any.whl (119 kB)\n",
            "\u001b[2K   \u001b[90m━━━━━━━━━━━━━━━━━━━━━━━━━━━━━━━━━━━━━━━━\u001b[0m \u001b[32m119.1/119.1 kB\u001b[0m \u001b[31m7.2 MB/s\u001b[0m eta \u001b[36m0:00:00\u001b[0m\n",
            "\u001b[?25hDownloading bidict-0.23.1-py3-none-any.whl (32 kB)\n",
            "Downloading miditoolkit-1.0.1-py3-none-any.whl (24 kB)\n",
            "Downloading mido-1.3.3-py3-none-any.whl (54 kB)\n",
            "\u001b[2K   \u001b[90m━━━━━━━━━━━━━━━━━━━━━━━━━━━━━━━━━━━━━━━━\u001b[0m \u001b[32m54.6/54.6 kB\u001b[0m \u001b[31m4.8 MB/s\u001b[0m eta \u001b[36m0:00:00\u001b[0m\n",
            "\u001b[?25hDownloading pypianoroll-1.0.4-py3-none-any.whl (26 kB)\n",
            "Building wheels for collected packages: pretty-midi\n",
            "  Building wheel for pretty-midi (setup.py) ... \u001b[?25l\u001b[?25hdone\n",
            "  Created wheel for pretty-midi: filename=pretty_midi-0.2.10-py3-none-any.whl size=5592286 sha256=61be2105ab5381af7e82b5d336041fe2aaec28cb60fe81ad0660b1926415a2da\n",
            "  Stored in directory: /root/.cache/pip/wheels/e6/95/ac/15ceaeb2823b04d8e638fd1495357adb8d26c00ccac9d7782e\n",
            "Successfully built pretty-midi\n",
            "Installing collected packages: mido, bidict, pretty-midi, pypianoroll, miditoolkit, muspy\n",
            "Successfully installed bidict-0.23.1 miditoolkit-1.0.1 mido-1.3.3 muspy-0.5.0 pretty-midi-0.2.10 pypianoroll-1.0.4\n",
            "Requirement already satisfied: music21 in /usr/local/lib/python3.11/dist-packages (9.3.0)\n",
            "Requirement already satisfied: chardet in /usr/local/lib/python3.11/dist-packages (from music21) (5.2.0)\n",
            "Requirement already satisfied: joblib in /usr/local/lib/python3.11/dist-packages (from music21) (1.4.2)\n",
            "Requirement already satisfied: jsonpickle in /usr/local/lib/python3.11/dist-packages (from music21) (4.0.5)\n",
            "Requirement already satisfied: matplotlib in /usr/local/lib/python3.11/dist-packages (from music21) (3.10.0)\n",
            "Requirement already satisfied: more-itertools in /usr/local/lib/python3.11/dist-packages (from music21) (10.7.0)\n",
            "Requirement already satisfied: numpy in /usr/local/lib/python3.11/dist-packages (from music21) (2.0.2)\n",
            "Requirement already satisfied: requests in /usr/local/lib/python3.11/dist-packages (from music21) (2.32.3)\n",
            "Requirement already satisfied: webcolors>=1.5 in /usr/local/lib/python3.11/dist-packages (from music21) (24.11.1)\n",
            "Requirement already satisfied: contourpy>=1.0.1 in /usr/local/lib/python3.11/dist-packages (from matplotlib->music21) (1.3.2)\n",
            "Requirement already satisfied: cycler>=0.10 in /usr/local/lib/python3.11/dist-packages (from matplotlib->music21) (0.12.1)\n",
            "Requirement already satisfied: fonttools>=4.22.0 in /usr/local/lib/python3.11/dist-packages (from matplotlib->music21) (4.57.0)\n",
            "Requirement already satisfied: kiwisolver>=1.3.1 in /usr/local/lib/python3.11/dist-packages (from matplotlib->music21) (1.4.8)\n",
            "Requirement already satisfied: packaging>=20.0 in /usr/local/lib/python3.11/dist-packages (from matplotlib->music21) (24.2)\n",
            "Requirement already satisfied: pillow>=8 in /usr/local/lib/python3.11/dist-packages (from matplotlib->music21) (11.2.1)\n",
            "Requirement already satisfied: pyparsing>=2.3.1 in /usr/local/lib/python3.11/dist-packages (from matplotlib->music21) (3.2.3)\n",
            "Requirement already satisfied: python-dateutil>=2.7 in /usr/local/lib/python3.11/dist-packages (from matplotlib->music21) (2.9.0.post0)\n",
            "Requirement already satisfied: charset-normalizer<4,>=2 in /usr/local/lib/python3.11/dist-packages (from requests->music21) (3.4.1)\n",
            "Requirement already satisfied: idna<4,>=2.5 in /usr/local/lib/python3.11/dist-packages (from requests->music21) (3.10)\n",
            "Requirement already satisfied: urllib3<3,>=1.21.1 in /usr/local/lib/python3.11/dist-packages (from requests->music21) (2.4.0)\n",
            "Requirement already satisfied: certifi>=2017.4.17 in /usr/local/lib/python3.11/dist-packages (from requests->music21) (2025.4.26)\n",
            "Requirement already satisfied: six>=1.5 in /usr/local/lib/python3.11/dist-packages (from python-dateutil>=2.7->matplotlib->music21) (1.17.0)\n"
          ]
        }
      ],
      "source": [
        "%pip install muspy\n",
        "%pip install music21"
      ]
    },
    {
      "cell_type": "markdown",
      "source": [
        "loading libraries into python instance"
      ],
      "metadata": {
        "id": "3HuKpde_X-qH"
      }
    },
    {
      "cell_type": "code",
      "source": [
        "import muspy\n",
        "import random\n",
        "import os\n",
        "import music21\n",
        "import math\n",
        "from collections import defaultdict"
      ],
      "metadata": {
        "id": "Ylk6F_JUTvJI"
      },
      "execution_count": 3,
      "outputs": []
    },
    {
      "cell_type": "markdown",
      "source": [
        "Defining functions that will be used in the code"
      ],
      "metadata": {
        "id": "fZgntswAYDzh"
      }
    },
    {
      "cell_type": "code",
      "source": [
        "#condenses note sequences into chords and gives them labels utilizing chordify\n",
        "def extract_chord_labels(filepath):\n",
        "    stream = music21.converter.parse(filepath)\n",
        "    chords = stream.chordify()\n",
        "    labels = []\n",
        "    for c in chords.flat.getElementsByClass('Chord'):\n",
        "        label = c.pitchedCommonName  # e.g., \"C major triad\"\n",
        "        labels.append(label)\n",
        "    return labels\n",
        "\n",
        "# Convert chord labels to consistent token format\n",
        "def tokenize_chords(labels):\n",
        "    return [label.replace(\" \", \"_\").upper() for label in labels]\n",
        "\n",
        "#Constructs the N-Gram Language model\n",
        "def compute_ngram_probs(sequences, n=2):\n",
        "    model = defaultdict(lambda: defaultdict(int))\n",
        "    total = 0\n",
        "    for seq in sequences:\n",
        "        for i in range(len(seq)-n):\n",
        "            context = tuple(seq[i:i+n-1])\n",
        "            target = seq[i+n-1]\n",
        "            model[context][target] += 1\n",
        "            total += 1\n",
        "    # Normalize to get probabilities\n",
        "    for context in model:\n",
        "        total_count = sum(model[context].values())\n",
        "        for token in model[context]:\n",
        "            model[context][token] /= total_count\n",
        "    return model\n",
        "\n",
        "#computes perplexity with smoothing to account for 0\n",
        "def compute_perplexity(model, sequence, n=2):\n",
        "    log_prob = 0\n",
        "    count = 0\n",
        "    for i in range(len(sequence)-n):\n",
        "        context = tuple(sequence[i:i+n-1])\n",
        "        target = sequence[i+n-1]\n",
        "        prob = model.get(context, {}).get(target, 1e-6)  # smoothing\n",
        "        log_prob += math.log2(prob)\n",
        "        count += 1\n",
        "    return 2 ** (-log_prob / count) if count > 0 else float('inf')"
      ],
      "metadata": {
        "id": "MRw2OQTPUUcn"
      },
      "execution_count": 4,
      "outputs": []
    },
    {
      "cell_type": "markdown",
      "source": [
        "Load the wikifonia dataset"
      ],
      "metadata": {
        "id": "N63hfdiOYYKV"
      }
    },
    {
      "cell_type": "code",
      "source": [
        "import muspy\n",
        "from pathlib import Path  # Add this import\n",
        "from music21 import converter\n",
        "class WikifoniaDataset(muspy.RemoteFolderDataset):\n",
        "    \"\"\"Wikifonia dataset.\"\"\"\n",
        "    _NAME = \"Wikifonia\"\n",
        "    _DESCRIPTION = \"A dataset of lead sheets with melody and chords.\"\n",
        "    _HOMEPAGE = \"http://www.synthzone.com/files/Wikifonia/\"\n",
        "    _sources = {\n",
        "        \"wikifonia\": {\n",
        "            \"filename\": \"Wikifonia.zip\",\n",
        "            \"url\": \"http://www.synthzone.com/files/Wikifonia/Wikifonia.zip\",\n",
        "            \"archive\": True,\n",
        "            \"size\": 35727800,\n",
        "            \"md5\": \"d26e22562e67eb7d37535e96cc5eebba\",\n",
        "            \"sha256\": \"e7bce509462a73cee175308b6a3cdafa9effd6e8958b3ce03b4edb293cc6b691\",\n",
        "        }\n",
        "    }\n",
        "    _extension = \"mxl\"\n",
        "\n",
        "    def read(self, filename: str | Path) -> muspy.datasets:  # Now Path is defined\n",
        "      \"\"\"Read a .mxl file into a Music object.\"\"\"\n",
        "      return muspy.read_musicxml(filename)"
      ],
      "metadata": {
        "id": "rDgfevXE8u-d"
      },
      "execution_count": 5,
      "outputs": []
    },
    {
      "cell_type": "code",
      "source": [
        "wikifonia = WikifoniaDataset(\n",
        "    root=\"wikifonia_dataset/\",\n",
        "    download_and_extract=True,\n",
        "    verbose=True\n",
        ")"
      ],
      "metadata": {
        "colab": {
          "base_uri": "https://localhost:8080/"
        },
        "id": "KvnqQFFv8xC2",
        "outputId": "cb82da22-4059-4417-8bd8-1afea4a413cd"
      },
      "execution_count": 6,
      "outputs": [
        {
          "output_type": "stream",
          "name": "stdout",
          "text": [
            "Downloading source : http://www.synthzone.com/files/Wikifonia/Wikifonia.zip ...\n"
          ]
        },
        {
          "output_type": "stream",
          "name": "stderr",
          "text": [
            "77952638976it [00:05, 13301493382.98it/s]\n"
          ]
        },
        {
          "output_type": "stream",
          "name": "stdout",
          "text": [
            "Successfully downloaded source : /content/wikifonia_dataset/Wikifonia.zip .\n",
            "Extracting archive : /content/wikifonia_dataset/Wikifonia.zip ...\n",
            "Successfully extracted archive : /content/wikifonia_dataset .\n"
          ]
        }
      ]
    },
    {
      "cell_type": "markdown",
      "source": [
        "Creates empty lists for adding note info"
      ],
      "metadata": {
        "id": "x9nGTiDsYjDc"
      }
    },
    {
      "cell_type": "code",
      "source": [
        "sequences = []\n",
        "chord_sequences = []\n",
        "\n"
      ],
      "metadata": {
        "id": "M-huoKdIUiGR"
      },
      "execution_count": 49,
      "outputs": []
    },
    {
      "cell_type": "markdown",
      "source": [
        "Randomly samples portion of the wikifonia datset"
      ],
      "metadata": {
        "id": "ZWc69PXHU4Pj"
      }
    },
    {
      "cell_type": "code",
      "source": [
        "test_sample = []\n",
        "for file in random.sample(wikifonia.raw_filenames, 50):\n",
        "  if str(file).endswith(\".mxl\"):\n",
        "    test_sample.append(file)"
      ],
      "metadata": {
        "id": "2d2y8cpJSWaV"
      },
      "execution_count": 52,
      "outputs": []
    },
    {
      "cell_type": "markdown",
      "source": [
        "Utilizes entire dataset (WARNING TAKES UPWARDS OF 30 MINS TO RUN)"
      ],
      "metadata": {
        "id": "ZyxP7dNz2lOF"
      }
    },
    {
      "cell_type": "code",
      "source": [
        "test_sample = []\n",
        "for file in wikifonia.raw_filenames:\n",
        "  if str(file).endswith(\".mxl\"):\n",
        "    test_sample.append(file)"
      ],
      "metadata": {
        "id": "rSq1aJ7kcA_8"
      },
      "execution_count": 51,
      "outputs": []
    },
    {
      "cell_type": "markdown",
      "source": [
        "Basic Testing"
      ],
      "metadata": {
        "id": "b92yDe7GV4eE"
      }
    },
    {
      "cell_type": "code",
      "source": [
        "count = 0\n",
        "for file in test_sample:\n",
        "    if count%100 == 0:\n",
        "        print(f\"{count/len(test_sample):.1%}\")\n",
        "    count += 1\n",
        "    if str(file).endswith(\".mxl\"):\n",
        "      try:\n",
        "        music = muspy.read_musicxml(file)\n",
        "        for notes in music:\n",
        "          song = []\n",
        "          for note in notes:\n",
        "            song.append(note.pitch_str)\n",
        "          sequences.append(song)\n",
        "      except (muspy.MusicXMLError, ValueError, IndexError):\n",
        "        continue\n",
        "print(\"100%\")"
      ],
      "metadata": {
        "colab": {
          "base_uri": "https://localhost:8080/"
        },
        "collapsed": true,
        "id": "i4Iv5-HiV3yQ",
        "outputId": "cf4a4cb1-e34f-4ab6-8c23-6dc38f287680"
      },
      "execution_count": 53,
      "outputs": [
        {
          "output_type": "stream",
          "name": "stdout",
          "text": [
            "0.0%\n",
            "100%\n"
          ]
        }
      ]
    },
    {
      "cell_type": "markdown",
      "source": [
        "Chordifty testing"
      ],
      "metadata": {
        "id": "R-PWdfGSVxdh"
      }
    },
    {
      "cell_type": "code",
      "source": [
        "count = 0\n",
        "for file in test_sample:\n",
        "    if count%100 == 0:\n",
        "        print(f\"{count/len(test_sample):.1%}\")\n",
        "    count += 1\n",
        "    try:\n",
        "      if str(file).endswith(\".mxl\"):\n",
        "          labels = extract_chord_labels(os.path.join(str(file)))\n",
        "          tokens = tokenize_chords(labels)\n",
        "          if len(tokens) > 0:\n",
        "              chord_sequences.append(tokens)\n",
        "    # Due to some errors while calculating a try/catch was added\n",
        "    # The try/catch cuases the Keyboardinterupt error to be ignored\n",
        "    # If issue appears and code needs to be stopped, runtime needs to be restarted\n",
        "    except:\n",
        "      continue\n",
        "print(\"100%\")"
      ],
      "metadata": {
        "colab": {
          "base_uri": "https://localhost:8080/"
        },
        "id": "8nP1WqrXVtLI",
        "outputId": "c955be1b-a1dc-4ea9-cdd3-02b74ba4a3b5"
      },
      "execution_count": 54,
      "outputs": [
        {
          "output_type": "stream",
          "name": "stdout",
          "text": [
            "0.0%\n",
            "100%\n"
          ]
        }
      ]
    },
    {
      "cell_type": "markdown",
      "source": [
        "Test and train the model and calculate perplexity"
      ],
      "metadata": {
        "id": "4qOozWBjVDPo"
      }
    },
    {
      "cell_type": "code",
      "source": [
        "test_seq1 = sequences[0]\n",
        "train_seqs1 = sequences[1:]\n",
        "\n",
        "model = compute_ngram_probs(train_seqs1, n=2)\n",
        "pp = compute_perplexity(model, test_seq1, n=2)\n",
        "\n",
        "print(f\"Perplexity of test sequence (non chordify): {pp:.4f}\")"
      ],
      "metadata": {
        "colab": {
          "base_uri": "https://localhost:8080/"
        },
        "id": "cIzJVXcJQnqD",
        "outputId": "21624251-f026-4c54-c62e-793169798134"
      },
      "execution_count": 55,
      "outputs": [
        {
          "output_type": "stream",
          "name": "stdout",
          "text": [
            "Perplexity of test sequence (non chordify): 8.8219\n"
          ]
        }
      ]
    },
    {
      "cell_type": "code",
      "source": [
        "test_seq2 = chord_sequences[0]\n",
        "train_seqs2 = chord_sequences[1:]\n",
        "\n",
        "model = compute_ngram_probs(train_seqs2, n=2)\n",
        "pp = compute_perplexity(model, test_seq2, n=2)\n",
        "\n",
        "print(f\"Perplexity of test chord sequence (chordify): {pp:.4f}\")"
      ],
      "metadata": {
        "id": "qB1kJM1ZUm_q",
        "colab": {
          "base_uri": "https://localhost:8080/"
        },
        "outputId": "f48e1a52-c973-44d6-8ad9-17238cf75a2c"
      },
      "execution_count": 56,
      "outputs": [
        {
          "output_type": "stream",
          "name": "stdout",
          "text": [
            "Perplexity of test chord sequence (chordify): 92.5040\n"
          ]
        }
      ]
    }
  ]
}